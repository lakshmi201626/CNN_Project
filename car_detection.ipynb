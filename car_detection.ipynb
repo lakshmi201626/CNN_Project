{
 "cells": [
  {
   "cell_type": "code",
   "execution_count": 1,
   "metadata": {},
   "outputs": [
    {
     "name": "stderr",
     "output_type": "stream",
     "text": [
      "Using cache found in C:\\Users\\xiaomi/.cache\\torch\\hub\\ultralytics_yolov5_master\n",
      "YOLOv5  2024-3-22 Python-3.11.5 torch-2.2.1+cpu CPU\n",
      "\n",
      "Fusing layers... \n",
      "YOLOv5s summary: 213 layers, 7225885 parameters, 0 gradients, 16.4 GFLOPs\n",
      "Adding AutoShape... \n"
     ]
    },
    {
     "name": "stdout",
     "output_type": "stream",
     "text": [
      "0    car\n",
      "Name: name, dtype: object\n",
      "0    car\n",
      "Name: name, dtype: object\n",
      "0    car\n",
      "Name: name, dtype: object\n",
      "0    car\n",
      "Name: name, dtype: object\n",
      "0    car\n",
      "Name: name, dtype: object\n",
      "0    car\n",
      "Name: name, dtype: object\n",
      "0    car\n",
      "Name: name, dtype: object\n"
     ]
    },
    {
     "name": "stderr",
     "output_type": "stream",
     "text": [
      "C:\\Users\\xiaomi\\AppData\\Local\\Temp\\ipykernel_14736\\1777611442.py:34: FutureWarning: Calling int on a single element Series is deprecated and will raise a TypeError in the future. Use int(ser.iloc[0]) instead\n",
      "  cv2.rectangle(image, (int(x1), int(y1)), (int(x2), int(y2)), (0, 255, 0), 2)\n"
     ]
    }
   ],
   "source": [
    "import pandas as pd\n",
    "import cv2\n",
    "import torch\n",
    "\n",
    "# Load the model (download a pre-trained YOLOv5 model first)\n",
    "model = torch.hub.load('ultralytics/yolov5', 'yolov5s')  # Adjust model name as needed\n",
    "\n",
    "# Load the image\n",
    "image = cv2.imread(r'D:\\DL_Projects\\Car_classification\\innova.jpg')\n",
    "\n",
    "# Run object detection\n",
    "results = model(image)\n",
    "\n",
    "# Process the results (extract bounding boxes and labels)\n",
    "for result in results.pandas().xyxy[0]: \n",
    "    detection = results.pandas().xyxy[0]\n",
    "    if detection.empty:\n",
    "        print('df is empty')\n",
    "        exit()\n",
    "        break\n",
    "    else:\n",
    "        x1 = detection['xmin']  # Assuming these column names are used\n",
    "        y1 = detection['ymin']\n",
    "        x2 = detection['xmax']\n",
    "        y2 = detection['ymax']\n",
    "        conf = detection['confidence']\n",
    "        name = detection['name']  # Assuming 'class name' is a column\n",
    "        print(name)\n",
    "        if pd.isna(name).any() or name.item() != 'car':  # Check for NaN values\n",
    "            print('Not a car image')\n",
    "            break\n",
    "        else:\n",
    "            # ... (draw bounding box)\n",
    "            cv2.rectangle(image, (int(x1), int(y1)), (int(x2), int(y2)), (0, 255, 0), 2)\n",
    "            #cv2.putText(image, name, (int(x1), int(y1) - 5), cv2.FONT_HERSHEY_SIMPLEX, 0.9, (255, 0, 0), 2)\n",
    "\n",
    "    \n",
    "cv2.imshow('Detected Image', image)\n",
    "cv2.waitKey()\n",
    "cv2.destroyAllWindows()"
   ]
  },
  {
   "cell_type": "code",
   "execution_count": null,
   "metadata": {},
   "outputs": [],
   "source": []
  }
 ],
 "metadata": {
  "kernelspec": {
   "display_name": "Python 3",
   "language": "python",
   "name": "python3"
  },
  "language_info": {
   "codemirror_mode": {
    "name": "ipython",
    "version": 3
   },
   "file_extension": ".py",
   "mimetype": "text/x-python",
   "name": "python",
   "nbconvert_exporter": "python",
   "pygments_lexer": "ipython3",
   "version": "3.11.5"
  }
 },
 "nbformat": 4,
 "nbformat_minor": 2
}
